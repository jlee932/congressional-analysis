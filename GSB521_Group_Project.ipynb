{
  "nbformat": 4,
  "nbformat_minor": 0,
  "metadata": {
    "colab": {
      "provenance": [],
      "include_colab_link": true
    },
    "kernelspec": {
      "name": "python3",
      "display_name": "Python 3"
    },
    "language_info": {
      "name": "python"
    }
  },
  "cells": [
    {
      "cell_type": "markdown",
      "metadata": {
        "id": "view-in-github",
        "colab_type": "text"
      },
      "source": [
        "<a href=\"https://colab.research.google.com/github/jlee932/congressional-analysis/blob/main/GSB521_Group_Project.ipynb\" target=\"_parent\"><img src=\"https://colab.research.google.com/assets/colab-badge.svg\" alt=\"Open In Colab\"/></a>"
      ]
    },
    {
      "cell_type": "code",
      "source": [
        "# hypothesis: In combination with the party, we beleive the 25-44 age group earns more income than the 25 and under and 44-64 bracket.\n",
        "#add new data to test this hypothesis \n",
        "#notbook has to have to the analysis (in support or not supposting our hypothesis)\n",
        "\n",
        "#Links for definition of \"Householder\"\n",
        "#https://www.census.gov/programs-surveys/cps/technical-documentation/subject-definitions.html#:~:text=is%20not%20related.-,Householder,%2C%20boarders%2C%20or%20paid%20employees.\n",
        "#https://www2.census.gov/programs-surveys/acs/tech_docs/user_notes/Family_Equalization_2006.pdf\n"
      ],
      "metadata": {
        "id": "P8dSs2ywP7jK"
      },
      "execution_count": null,
      "outputs": []
    },
    {
      "cell_type": "markdown",
      "source": [
        "# We begin by importing our libraries and the ACS data. "
      ],
      "metadata": {
        "id": "BOogyT5wtSaR"
      }
    },
    {
      "cell_type": "code",
      "source": [
        "# first some initial setup of libraries we will be using\n",
        "import pandas as pd # this is the main library used in python for manipulating data. \n",
        "import json # this is a library to parse json (javascript object notation)\n",
        "from urllib.request import urlopen # library to read data from a URL\n",
        "import matplotlib.pyplot as plt # visualization library we will use that integrates with pandas\n"
      ],
      "metadata": {
        "id": "lhc9cNErouXU"
      },
      "execution_count": null,
      "outputs": []
    },
    {
      "cell_type": "code",
      "source": [
        "# We are reading in the data we want from ACS 2021. The API returns json data. Try copy and pasting the link yourself in a browser to see what the raw data looks like.\n",
        "url=\"https://api.census.gov/data/2021/acs/acs1?get=NAME,B19001_001E,B19001_002E,B19001_017E&for=congressional%20district:*&in=state:*\"\n",
        "\n",
        "# store the response of URL\n",
        "response = urlopen(url)\n",
        "\n",
        "# storing the JSON response from url in data\n",
        "data_json = json.loads(response.read())\n",
        "data_json.pop(0) # the first row of data is header information which we don't need, so pop removes that from the dataset.\n",
        "\n",
        "# Hand populate the columns based on the variable descriptions census.gov documents here: https://api.census.gov/data/2021/acs/acs1/variables.html. Note they correspond back to the variable names I included in the URL above.\n",
        "cols = ['District Name','Total Households','Less than $10k', '$200k+', 'State code', 'district number']\n",
        "\n",
        "acs_df = pd.DataFrame(data_json, columns = cols)\n",
        "\n",
        "# time to do some basic cleanup of the data. We will need to extract the district number and state in a regular format so we can later join with the party data.\n",
        "acs_df[['District', 'State']] = acs_df['District Name'].str.split(',', expand=True)\n",
        "acs_df['district number'] = pd.to_numeric(acs_df['district number']) #Turn state into a numeric \n",
        "\n",
        "acs_df['State'] = acs_df['State'].str.strip() # Strips the white space \n",
        "\n",
        "# Let's just keep the columns we need\n",
        "acs_df = acs_df[['Total Households', 'Less than $10k', \"$200k+\", 'district number', 'State']]\n",
        "\n",
        "# take a look at the top results in the dataset\n",
        "acs_df.head() #Looks at the top 5 of the data "
      ],
      "metadata": {
        "id": "hXkPM1xR-lMX"
      },
      "execution_count": null,
      "outputs": []
    },
    {
      "cell_type": "code",
      "source": [
        "# Convert the number columns into number data types so we can math on them\n",
        "acs_df[\"Total Households\"] = pd.to_numeric(acs_df[\"Total Households\"])\n",
        "acs_df[\"Less than $10k\"] = pd.to_numeric(acs_df[\"Less than $10k\"])\n",
        "acs_df['$200k+'] = pd.to_numeric(acs_df['$200k+'])\n",
        "\n",
        "# Compute some new columns based on the existing columns for later visualization\n",
        "acs_df['% of households over $200k'] = (100*acs_df['$200k+'])/acs_df['Total Households']\n",
        "acs_df['% of households less than $10k'] = (100*acs_df['Less than $10k'])/acs_df['Total Households'] \n",
        "\n",
        "# now let's look at the data again\n",
        "acs_df.head()"
      ],
      "metadata": {
        "id": "EwrCmGr4_E2L"
      },
      "execution_count": null,
      "outputs": []
    },
    {
      "cell_type": "markdown",
      "source": [
        "#Importing Congressional data"
      ],
      "metadata": {
        "id": "JEGEJfK0BOz4"
      }
    },
    {
      "cell_type": "code",
      "source": [
        "# read from the congressional data and put into a pandas dataframe\n",
        "party_df = pd.read_csv(\"http://goodcsv.com/wp-content/uploads/2020/08/us-house-of-representatives-2020.csv\", encoding = \"ISO-8859-1\")\n",
        "\n",
        "# extract the district number from the data (it was in the format of 5th and we want that to just be 5) using a regular expression.\n",
        "party_df['district number'] = party_df['District/Position'].str.extract('(\\d+)')\n",
        "party_df['district number'] = party_df['district number'].fillna(0)\n",
        "party_df['district number'] = pd.to_numeric(party_df['district number'])\n",
        "party_df['State'] = party_df['State/Territory']\n",
        "party_df['State'] = party_df['State'].str.strip()\n",
        "party_df['Party'] = party_df['Party'].str.strip() # remove extraneous whitespace\n",
        "\n",
        "# Let's just keep the columns we need\n",
        "party_df = party_df[['State', 'Party', \"district number\"]]\n",
        "\n",
        "party_df.head(5)"
      ],
      "metadata": {
        "id": "E-I3dQc4-lBc"
      },
      "execution_count": null,
      "outputs": []
    },
    {
      "cell_type": "code",
      "source": [
        "# Quick check to see if the data is correct \n",
        "party_df['State'].value_counts()"
      ],
      "metadata": {
        "id": "xbW7UTQs-k39"
      },
      "execution_count": null,
      "outputs": []
    },
    {
      "cell_type": "code",
      "source": [
        "# Merge is like a sql natural join. We are joining on the State and District numbers being the same between the two sets. Similar to natural join.\n",
        "merged_df = pd.merge(acs_df, party_df, on=[\"State\", \"district number\"])"
      ],
      "metadata": {
        "id": "G_bb49Ab-krg"
      },
      "execution_count": null,
      "outputs": []
    },
    {
      "cell_type": "markdown",
      "source": [
        "#Importing Householder data "
      ],
      "metadata": {
        "id": "znkm99a4BpZL"
      }
    },
    {
      "cell_type": "code",
      "execution_count": null,
      "metadata": {
        "id": "2wRvMrHsn3sD"
      },
      "outputs": [],
      "source": [
        "# We are reading in the data we want from ACS 2021. The API returns json data. Try copy and pasting the link yourself in a browser to see what the raw data looks like.\n",
        "url2 = \"https://api.census.gov/data/2021/acs/acs1?get=NAME,B19037_001E,B19037_002E,B19037_019E,B19037_036E&for=congressional%20district:*&in=state:*\"\n",
        "\n",
        "response2 = urlopen(url2)\n",
        "\n",
        "data_json2 = json.loads(response2.read())\n",
        "data_json2.pop(0)\n"
      ]
    },
    {
      "cell_type": "code",
      "source": [
        "cols2 =  ['District Name','Total Households','Householder under 25','Householder 25 to 44','Householder 44 to 65','State code','district number'] #where do we find the names of the columns? Named off the description in the asi website \n",
        "\n",
        "acs_df2 = pd.DataFrame(data_json2,columns=cols2)\n",
        "\n",
        "acs_df2[['District', 'State']] = acs_df2['District Name'].str.split(',', expand=True)\n",
        "acs_df2['district number'] = pd.to_numeric(acs_df2['district number'])\n",
        "\n",
        "acs_df2['State'] = acs_df2['State'].str.strip() # Strips the white space\n",
        "\n",
        "#acs_df2['Total Households'] = acs_df2['Householder under 25'] + acs_df2['Householder 25 to 44'] + acs_df2['Householder 44 to 65'] + acs_df2['State code'] + acs_df2['district number']\n",
        "\n",
        "# Keeping the columns we need\n",
        "acs_df2 = acs_df2[['Total Households','Householder under 25','Householder 25 to 44','Householder 44 to 65','State','district number']]\n",
        "\n",
        "# Looking at the top 5 of our data\n",
        "acs_df2.head()  \n"
      ],
      "metadata": {
        "id": "-1Nt_H78peHA"
      },
      "execution_count": null,
      "outputs": []
    },
    {
      "cell_type": "code",
      "source": [
        "acs_df2['State'].value_counts()"
      ],
      "metadata": {
        "id": "9o7-GiSdDXw_"
      },
      "execution_count": null,
      "outputs": []
    },
    {
      "cell_type": "markdown",
      "source": [
        "#Merging all 3 data sets"
      ],
      "metadata": {
        "id": "2HRVN6LAA5KA"
      }
    },
    {
      "cell_type": "code",
      "source": [
        "# from pandas.core.reshape.merge import merge\n",
        "# merged_df = pd.merge(acs_df, party_df, on=[\"State\", \"district number\"])\n",
        "\n",
        "merge3 = merge(merged_df,acs_df2)\n"
      ],
      "metadata": {
        "id": "1x-08svEKZEw",
        "colab": {
          "base_uri": "https://localhost:8080/",
          "height": 345
        },
        "outputId": "dcd0f6c1-7bbf-4bfb-9fa4-a45dc5d902f1"
      },
      "execution_count": null,
      "outputs": [
        {
          "output_type": "error",
          "ename": "ValueError",
          "evalue": "ignored",
          "traceback": [
            "\u001b[0;31m---------------------------------------------------------------------------\u001b[0m",
            "\u001b[0;31mValueError\u001b[0m                                Traceback (most recent call last)",
            "\u001b[0;32m<ipython-input-67-27b4fb2d1e63>\u001b[0m in \u001b[0;36m<module>\u001b[0;34m\u001b[0m\n\u001b[1;32m      2\u001b[0m \u001b[0;31m# merged_df = pd.merge(acs_df, party_df, on=[\"State\", \"district number\"])\u001b[0m\u001b[0;34m\u001b[0m\u001b[0;34m\u001b[0m\u001b[0;34m\u001b[0m\u001b[0m\n\u001b[1;32m      3\u001b[0m \u001b[0;34m\u001b[0m\u001b[0m\n\u001b[0;32m----> 4\u001b[0;31m \u001b[0mmerge3\u001b[0m \u001b[0;34m=\u001b[0m \u001b[0mmerge\u001b[0m\u001b[0;34m(\u001b[0m\u001b[0mmerged_df\u001b[0m\u001b[0;34m,\u001b[0m\u001b[0macs_df2\u001b[0m\u001b[0;34m)\u001b[0m\u001b[0;34m\u001b[0m\u001b[0;34m\u001b[0m\u001b[0m\n\u001b[0m",
            "\u001b[0;32m/usr/local/lib/python3.8/dist-packages/pandas/core/reshape/merge.py\u001b[0m in \u001b[0;36mmerge\u001b[0;34m(left, right, how, on, left_on, right_on, left_index, right_index, sort, suffixes, copy, indicator, validate)\u001b[0m\n\u001b[1;32m    104\u001b[0m     \u001b[0mvalidate\u001b[0m\u001b[0;34m:\u001b[0m \u001b[0mstr\u001b[0m \u001b[0;34m|\u001b[0m \u001b[0;32mNone\u001b[0m \u001b[0;34m=\u001b[0m \u001b[0;32mNone\u001b[0m\u001b[0;34m,\u001b[0m\u001b[0;34m\u001b[0m\u001b[0;34m\u001b[0m\u001b[0m\n\u001b[1;32m    105\u001b[0m ) -> DataFrame:\n\u001b[0;32m--> 106\u001b[0;31m     op = _MergeOperation(\n\u001b[0m\u001b[1;32m    107\u001b[0m         \u001b[0mleft\u001b[0m\u001b[0;34m,\u001b[0m\u001b[0;34m\u001b[0m\u001b[0;34m\u001b[0m\u001b[0m\n\u001b[1;32m    108\u001b[0m         \u001b[0mright\u001b[0m\u001b[0;34m,\u001b[0m\u001b[0;34m\u001b[0m\u001b[0;34m\u001b[0m\u001b[0m\n",
            "\u001b[0;32m/usr/local/lib/python3.8/dist-packages/pandas/core/reshape/merge.py\u001b[0m in \u001b[0;36m__init__\u001b[0;34m(self, left, right, how, on, left_on, right_on, axis, left_index, right_index, sort, suffixes, copy, indicator, validate)\u001b[0m\n\u001b[1;32m    701\u001b[0m         \u001b[0;31m# validate the merge keys dtypes. We may need to coerce\u001b[0m\u001b[0;34m\u001b[0m\u001b[0;34m\u001b[0m\u001b[0;34m\u001b[0m\u001b[0m\n\u001b[1;32m    702\u001b[0m         \u001b[0;31m# to avoid incompatible dtypes\u001b[0m\u001b[0;34m\u001b[0m\u001b[0;34m\u001b[0m\u001b[0;34m\u001b[0m\u001b[0m\n\u001b[0;32m--> 703\u001b[0;31m         \u001b[0mself\u001b[0m\u001b[0;34m.\u001b[0m\u001b[0m_maybe_coerce_merge_keys\u001b[0m\u001b[0;34m(\u001b[0m\u001b[0;34m)\u001b[0m\u001b[0;34m\u001b[0m\u001b[0;34m\u001b[0m\u001b[0m\n\u001b[0m\u001b[1;32m    704\u001b[0m \u001b[0;34m\u001b[0m\u001b[0m\n\u001b[1;32m    705\u001b[0m         \u001b[0;31m# If argument passed to validate,\u001b[0m\u001b[0;34m\u001b[0m\u001b[0;34m\u001b[0m\u001b[0;34m\u001b[0m\u001b[0m\n",
            "\u001b[0;32m/usr/local/lib/python3.8/dist-packages/pandas/core/reshape/merge.py\u001b[0m in \u001b[0;36m_maybe_coerce_merge_keys\u001b[0;34m(self)\u001b[0m\n\u001b[1;32m   1254\u001b[0m                     \u001b[0minferred_right\u001b[0m \u001b[0;32min\u001b[0m \u001b[0mstring_types\u001b[0m \u001b[0;32mand\u001b[0m \u001b[0minferred_left\u001b[0m \u001b[0;32mnot\u001b[0m \u001b[0;32min\u001b[0m \u001b[0mstring_types\u001b[0m\u001b[0;34m\u001b[0m\u001b[0;34m\u001b[0m\u001b[0m\n\u001b[1;32m   1255\u001b[0m                 ):\n\u001b[0;32m-> 1256\u001b[0;31m                     \u001b[0;32mraise\u001b[0m \u001b[0mValueError\u001b[0m\u001b[0;34m(\u001b[0m\u001b[0mmsg\u001b[0m\u001b[0;34m)\u001b[0m\u001b[0;34m\u001b[0m\u001b[0;34m\u001b[0m\u001b[0m\n\u001b[0m\u001b[1;32m   1257\u001b[0m \u001b[0;34m\u001b[0m\u001b[0m\n\u001b[1;32m   1258\u001b[0m             \u001b[0;31m# datetimelikes must match exactly\u001b[0m\u001b[0;34m\u001b[0m\u001b[0;34m\u001b[0m\u001b[0;34m\u001b[0m\u001b[0m\n",
            "\u001b[0;31mValueError\u001b[0m: You are trying to merge on int64 and object columns. If you wish to proceed you should use pd.concat"
          ]
        }
      ]
    },
    {
      "cell_type": "markdown",
      "source": [
        "#Checking if data sets were merged correctly"
      ],
      "metadata": {
        "id": "WbLmd4AqB0Fo"
      }
    },
    {
      "cell_type": "code",
      "source": [
        "merge3.describe()"
      ],
      "metadata": {
        "id": "zu2L3N8WOn5X"
      },
      "execution_count": null,
      "outputs": []
    },
    {
      "cell_type": "markdown",
      "source": [
        "There are 435 total rows, which matches up with the number of congress members in the 116th congress. "
      ],
      "metadata": {
        "id": "mrhfs0SfR6IF"
      }
    },
    {
      "cell_type": "code",
      "source": [
        "merge3['Party'].value_counts()"
      ],
      "metadata": {
        "id": "T6ePAD0TO2YY"
      },
      "execution_count": null,
      "outputs": []
    },
    {
      "cell_type": "markdown",
      "source": [
        "# Exploritory analysis to test our hypothesis."
      ],
      "metadata": {
        "id": "R99i7KbT-N8V"
      }
    },
    {
      "cell_type": "markdown",
      "source": [
        "The following scatterplot is of households earning over 200k and\n",
        "10k on the other axis. We will color the plot based upon the party affiliation of the districts congress member as of the 116th congress."
      ],
      "metadata": {
        "id": "jlvILpmJSXD8"
      }
    },
    {
      "cell_type": "code",
      "source": [
        "R = merged_df[merged_df['Party'].str.contains('R')]\n",
        "D = merged_df[merged_df['Party'].str.contains('D')]\n",
        "L = merged_df[merged_df['Party'].str.contains('L')]\n",
        "\n",
        "fig, ax = plt.subplots(figsize=(15, 12))\n",
        "R.plot.scatter(x='% of households over $200k', y='% of households less than $10k', c='red',label='Republican', ax=ax)\n",
        "D.plot.scatter(x='% of households over $200k', y='% of households less than $10k',c='blue',label='Democrat', ax=ax)\n",
        "L.plot.scatter(x='% of households over $200k', y='% of households less than $10k',c='gold',label='Libertarian', ax=ax)\n",
        "\n",
        "#for i, txt in enumerate(df['State']):\n",
        "#   ax.annotate(txt, (df['% of households over $200k'].iat[i], df['% of households less than $10k'].iat[i]))\n",
        "\n",
        "plt.legend()\n",
        "plt.show()"
      ],
      "metadata": {
        "id": "XCH_jeKCkws_"
      },
      "execution_count": null,
      "outputs": []
    },
    {
      "cell_type": "markdown",
      "source": [
        "We'll begin by looking at the percentage of households that earn over $200k and their householder is under the age of 25."
      ],
      "metadata": {
        "id": "ilQZnvn1pnur"
      }
    },
    {
      "cell_type": "code",
      "source": [
        "R = merge3[merge3['Party'].str.contains('R')]\n",
        "D = merge3[merge3['Party'].str.contains('D')]\n",
        "L = merge3[merge3['Party'].str.contains('L')]\n",
        "\n",
        "fig, ax = plt.subplots(figsize=(15, 12))\n",
        "R.plot.scatter(x='% of households over $200k', y='Householder under 25', c='red',label='Republican', ax=ax)\n",
        "D.plot.scatter(x='% of households over $200k', y='Householder under 25',c='blue',label='Democrat', ax=ax)\n",
        "L.plot.scatter(x='% of households over $200k', y='Householder under 25',c='gold',label='Libertarian', ax=ax)\n"
      ],
      "metadata": {
        "id": "Wbixeeq6pozl"
      },
      "execution_count": null,
      "outputs": []
    },
    {
      "cell_type": "markdown",
      "source": [
        "Percentage of households earning over $200k and their householder  is between the ages of 25 to 44. "
      ],
      "metadata": {
        "id": "4kq8ftiHp1R0"
      }
    },
    {
      "cell_type": "code",
      "source": [
        "R = merge3[merge3['Party'].str.contains('R')]\n",
        "D = merge3[merge3['Party'].str.contains('D')]\n",
        "L = merge3[merge3['Party'].str.contains('L')]\n",
        "\n",
        "\n",
        "fig, ax = plt.subplots(figsize=(15, 12))\n",
        "R.plot.scatter(x='% of households over $200k', y='Householder 25 to 44', c='red',label='Republican', ax=ax)\n",
        "D.plot.scatter(x='% of households over $200k', y='Householder 25 to 44',c='blue',label='Democrat', ax=ax)\n",
        "L.plot.scatter(x='% of households over $200k', y='Householder 25 to 44',c='gold',label='Libertarian', ax=ax)\n",
        "\n",
        "\n"
      ],
      "metadata": {
        "id": "AmIKQGh3x7v2"
      },
      "execution_count": null,
      "outputs": []
    },
    {
      "cell_type": "markdown",
      "source": [
        "Percentage of households earning over $200k and their householder is between the ages of 44 to 65. "
      ],
      "metadata": {
        "id": "nrh_UFRXp7rx"
      }
    },
    {
      "cell_type": "code",
      "source": [
        "R = merge3[merge3['Party'].str.contains('R')]\n",
        "D = merge3[merge3['Party'].str.contains('D')]\n",
        "L = merge3[merge3['Party'].str.contains('L')]\n",
        "\n",
        "\n",
        "fig, ax = plt.subplots(figsize=(15, 12))\n",
        "R.plot.scatter(x='% of households over $200k', y='Householder 44 to 65', c='red',label='Republican', ax=ax)\n",
        "D.plot.scatter(x='% of households over $200k', y='Householder 44 to 65',c='blue',label='Democrat', ax=ax)\n",
        "L.plot.scatter(x='% of households over $200k', y='Householder 44 to 65',c='gold',label='Libertarian', ax=ax)\n",
        "\n"
      ],
      "metadata": {
        "id": "86Cu4pqKDA28"
      },
      "execution_count": null,
      "outputs": []
    },
    {
      "cell_type": "markdown",
      "source": [
        "Next, we look percentages of households that earn less than 10k and their householder is under the age of 25."
      ],
      "metadata": {
        "id": "kBvYxMpiqDpY"
      }
    },
    {
      "cell_type": "code",
      "source": [
        "R = merge3[merge3['Party'].str.contains('R')]\n",
        "D = merge3[merge3['Party'].str.contains('D')]\n",
        "L = merge3[merge3['Party'].str.contains('L')]\n",
        "\n",
        "fig, ax = plt.subplots(figsize=(15, 12))\n",
        "R.plot.scatter(x='% of households less than $10k', y='Householder under 25', c='red',label='Republican', ax=ax)\n",
        "D.plot.scatter(x='% of households less than $10k', y='Householder under 25',c='blue',label='Democrat', ax=ax)\n",
        "L.plot.scatter(x='% of households less than $10k', y='Householder under 25',c='gold',label='Libertarian', ax=ax)\n",
        "\n",
        "#R.plot.scatter(x='Householder 44 to 65', y='% of households less than $10k', c='red',label='Republican', ax=ax)\n",
        "#D.plot.scatter(x='Householder 44 to 65', y='% of households less than $10k',c='blue',label='Democrat', ax=ax)\n",
        "#L.plot.scatter(x='Householder 44 to 65', y='% of households less than $10k',c='gold',label='Libertarian', ax=ax)"
      ],
      "metadata": {
        "id": "nVDGo1m9PNay"
      },
      "execution_count": null,
      "outputs": []
    },
    {
      "cell_type": "markdown",
      "source": [
        "Percentage of households earning less than 10k and their householder is between the ages of 25 to 44."
      ],
      "metadata": {
        "id": "clEKdy9UqlFY"
      }
    },
    {
      "cell_type": "code",
      "source": [
        "R = merge3[merge3['Party'].str.contains('R')]\n",
        "D = merge3[merge3['Party'].str.contains('D')]\n",
        "L = merge3[merge3['Party'].str.contains('L')]\n",
        "\n",
        "fig, ax = plt.subplots(figsize=(15, 12))\n",
        "R.plot.scatter(x='% of households less than $10k', y='Householder 25 to 44', c='red',label='Republican', ax=ax)\n",
        "D.plot.scatter(x='% of households less than $10k', y='Householder 25 to 44',c='blue',label='Democrat', ax=ax)\n",
        "L.plot.scatter(x='% of households less than $10k', y='Householder 25 to 44',c='gold',label='Libertarian', ax=ax)"
      ],
      "metadata": {
        "id": "cKK0YI1iADZs"
      },
      "execution_count": null,
      "outputs": []
    },
    {
      "cell_type": "markdown",
      "source": [
        "Lastly, we looked at households earning less than 10k and their householder is between the ages of 44 to 65. "
      ],
      "metadata": {
        "id": "Q0ljunAJqxC9"
      }
    },
    {
      "cell_type": "code",
      "source": [
        "R = merge3[merge3['Party'].str.contains('R')]\n",
        "D = merge3[merge3['Party'].str.contains('D')]\n",
        "L = merge3[merge3['Party'].str.contains('L')]\n",
        "\n",
        "\n",
        "fig, ax = plt.subplots(figsize=(15, 12))\n",
        "R.plot.scatter(x='% of households less than $10k', y='Householder 44 to 65', c='red',label='Republican', ax=ax)\n",
        "D.plot.scatter(x='% of households less than $10k', y='Householder 44 to 65',c='blue',label='Democrat', ax=ax)\n",
        "L.plot.scatter(x='% of households less than $10k', y='Householder 44 to 65',c='gold',label='Libertarian', ax=ax)"
      ],
      "metadata": {
        "id": "kxqEUzJCohQU"
      },
      "execution_count": null,
      "outputs": []
    },
    {
      "cell_type": "markdown",
      "source": [
        "Conclusion: Based on our analysis we found that their is no real correlation between the age of a householder, and their household income. "
      ],
      "metadata": {
        "id": "6Ad38N1Wshq6"
      }
    }
  ]
}